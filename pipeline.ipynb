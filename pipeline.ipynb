{
 "cells": [
  {
   "cell_type": "code",
   "execution_count": 1,
   "id": "dbdb0aec",
   "metadata": {},
   "outputs": [],
   "source": [
    "import numpy as np\n",
    "import pandas as pd\n",
    "import scipy\n",
    "import sklearn\n",
    "from sklearn.pipeline import make_pipeline\n",
    "\n",
    "import os\n",
    "\n",
    "import skimage\n",
    "import skimage.color\n",
    "import skimage.transform\n",
    "import skimage.io\n",
    "import skimage.feature\n",
    "\n",
    "import pickle\n",
    "\n",
    "import matplotlib.pyplot as plt\n",
    "%matplotlib inline"
   ]
  },
  {
   "cell_type": "code",
   "execution_count": 2,
   "id": "e3df417c",
   "metadata": {},
   "outputs": [],
   "source": [
    "from sklearn.base import BaseEstimator, TransformerMixin"
   ]
  },
  {
   "cell_type": "code",
   "execution_count": 3,
   "id": "e8503c3f",
   "metadata": {},
   "outputs": [],
   "source": [
    "class rgb2gray_transform(BaseEstimator,TransformerMixin):\n",
    "    import skimage.color\n",
    "    def __init__(self):\n",
    "        pass\n",
    "    def fit(self,X,y=None):\n",
    "        return self\n",
    "    def transform(self,X,y=None):\n",
    "        return np.array([skimage.color.rgb2gray(x) for x in X])"
   ]
  },
  {
   "cell_type": "code",
   "execution_count": 4,
   "id": "b8c4574e",
   "metadata": {},
   "outputs": [],
   "source": [
    "class hogtransformer(BaseEstimator,TransformerMixin):\n",
    "    import skimage.feature\n",
    "    def __init__(self,orientations=9,pixels_per_cell=(8,8),cells_per_block=(3, 3)):\n",
    "        self.orientations=orientations\n",
    "        self.pixels_per_cell=pixels_per_cell\n",
    "        self.cells_per_block=cells_per_block\n",
    "    \n",
    "    def fit(self,X,y=None):\n",
    "        return self\n",
    "    def transform(self,X,y=None):\n",
    "        def local_hog(img):\n",
    "            hog_features= skimage.feature.hog(img,\n",
    "                               orientations=self.orientations,\n",
    "                               pixels_per_cell=self.pixels_per_cell,\n",
    "                               cells_per_block=self.cells_per_block)\n",
    "            return hog_features\n",
    "        \n",
    "        features = np.array([local_hog(x) for x in X])\n",
    "#         hog_images= np.array([local_hog(x) for x in X])\n",
    "        return features"
   ]
  },
  {
   "cell_type": "markdown",
   "id": "dd494910",
   "metadata": {},
   "source": [
    "## Pipeline Model"
   ]
  },
  {
   "cell_type": "code",
   "execution_count": 7,
   "id": "a76fbcac",
   "metadata": {},
   "outputs": [],
   "source": [
    "# read the image\n",
    "image = skimage.io.imread('eagle.jpg')\n",
    "# transfrom image into 80x80\n",
    "image_resized = skimage.transform.resize(image,(80,80))\n",
    "# rescale\n",
    "rescaled_image = 255*image_resized\n",
    "\n",
    "image_transformed = rescaled_image.astype(np.uint8) # converting to 8 bit integer\n",
    "\n",
    "# rgb2gray \n",
    "gray = skimage.color.rgb2gray(image_transformed) # can use custom function as well\n",
    "# graify = rgb2gray_transform()\n",
    "# gray = graify.fit_transform(image_transformed)\n",
    "\n",
    "# hog feature (choosing best hyperparameter)\n",
    "\n",
    "hog_feature_vector = skimage.feature.hog(gray,\n",
    "                                  orientations=10, pixels_per_cell=(8,8),cells_per_block=(3,3))\n",
    "\n",
    "# hog = hogtransformer(orientations=8, pixels_per_cell=(8,8),cells_per_block=(3,3))\n",
    "# hog_feature_vector = hog.fit_transform(gray)\n",
    "\n"
   ]
  },
  {
   "cell_type": "code",
   "execution_count": 8,
   "id": "3e3bb9c9",
   "metadata": {},
   "outputs": [
    {
     "data": {
      "text/plain": [
       "array([[0.01633377, 0.00198746, 0.03191212, ..., 0.02345522, 0.01844644,\n",
       "        0.00353701]])"
      ]
     },
     "execution_count": 8,
     "metadata": {},
     "output_type": "execute_result"
    }
   ],
   "source": [
    "hog_feature_vector.reshape(1,-1)"
   ]
  },
  {
   "cell_type": "code",
   "execution_count": 9,
   "id": "714ede3d",
   "metadata": {},
   "outputs": [
    {
     "data": {
      "text/plain": [
       "array([[[ 4, 17,  0],\n",
       "        [ 5, 18,  0],\n",
       "        [ 6, 19,  1],\n",
       "        ...,\n",
       "        [ 7, 18,  1],\n",
       "        [ 6, 17,  0],\n",
       "        [ 6, 16,  0]],\n",
       "\n",
       "       [[ 6, 20,  0],\n",
       "        [ 6, 20,  0],\n",
       "        [ 7, 22,  0],\n",
       "        ...,\n",
       "        [ 7, 18,  1],\n",
       "        [ 7, 16,  0],\n",
       "        [ 6, 15,  0]],\n",
       "\n",
       "       [[ 7, 22,  0],\n",
       "        [ 8, 23,  0],\n",
       "        [ 8, 24,  0],\n",
       "        ...,\n",
       "        [ 7, 17,  0],\n",
       "        [ 7, 15,  0],\n",
       "        [ 6, 14,  0]],\n",
       "\n",
       "       ...,\n",
       "\n",
       "       [[ 0,  7,  0],\n",
       "        [ 0,  6,  0],\n",
       "        [ 0,  6,  0],\n",
       "        ...,\n",
       "        [ 4,  6,  1],\n",
       "        [ 7,  8,  3],\n",
       "        [10,  9,  4]],\n",
       "\n",
       "       [[ 0,  7,  0],\n",
       "        [ 0,  6,  0],\n",
       "        [ 0,  6,  0],\n",
       "        ...,\n",
       "        [ 3,  5,  0],\n",
       "        [ 5,  6,  1],\n",
       "        [ 8,  9,  4]],\n",
       "\n",
       "       [[ 0,  7,  0],\n",
       "        [ 0,  7,  0],\n",
       "        [ 0,  7,  0],\n",
       "        ...,\n",
       "        [ 4,  6,  1],\n",
       "        [ 4,  5,  0],\n",
       "        [ 7,  7,  3]]], dtype=uint8)"
      ]
     },
     "execution_count": 9,
     "metadata": {},
     "output_type": "execute_result"
    }
   ],
   "source": [
    "#  rescaled_image  # float value messed all our image\n",
    "image_transformed"
   ]
  },
  {
   "cell_type": "code",
   "execution_count": 13,
   "id": "33a87e98",
   "metadata": {},
   "outputs": [],
   "source": [
    "scaler = pickle.load(open('../Model/dsa_scaler.pickle','rb'))\n",
    "model = pickle.load(open('../Model/image_classification_sgd.pickle','rb'))"
   ]
  },
  {
   "cell_type": "code",
   "execution_count": 14,
   "id": "55cf0b27",
   "metadata": {},
   "outputs": [
    {
     "data": {
      "text/plain": [
       "{'alpha': 0.01,\n",
       " 'average': False,\n",
       " 'class_weight': None,\n",
       " 'early_stopping': True,\n",
       " 'epsilon': 0.1,\n",
       " 'eta0': 0.0,\n",
       " 'fit_intercept': True,\n",
       " 'l1_ratio': 0.15,\n",
       " 'learning_rate': 'optimal',\n",
       " 'loss': 'squared_hinge',\n",
       " 'max_iter': 1000,\n",
       " 'n_iter_no_change': 5,\n",
       " 'n_jobs': None,\n",
       " 'penalty': 'l2',\n",
       " 'power_t': 0.5,\n",
       " 'random_state': None,\n",
       " 'shuffle': True,\n",
       " 'tol': 0.001,\n",
       " 'validation_fraction': 0.1,\n",
       " 'verbose': 0,\n",
       " 'warm_start': False}"
      ]
     },
     "execution_count": 14,
     "metadata": {},
     "output_type": "execute_result"
    }
   ],
   "source": [
    "model.get_params()"
   ]
  },
  {
   "cell_type": "code",
   "execution_count": 15,
   "id": "7b5c5c84",
   "metadata": {},
   "outputs": [],
   "source": [
    "scaled = scaler.transform(hog_feature_vector.reshape(1,-1))\n",
    "y_pred = model.predict(scaled)"
   ]
  },
  {
   "cell_type": "code",
   "execution_count": 16,
   "id": "50ef12e7",
   "metadata": {},
   "outputs": [
    {
     "data": {
      "text/plain": [
       "array(['eagle'], dtype='<U8')"
      ]
     },
     "execution_count": 16,
     "metadata": {},
     "output_type": "execute_result"
    }
   ],
   "source": [
    "y_pred"
   ]
  },
  {
   "cell_type": "markdown",
   "id": "2b79e87e",
   "metadata": {},
   "source": [
    "### Calculating the Probability"
   ]
  },
  {
   "cell_type": "code",
   "execution_count": 17,
   "id": "395b045d",
   "metadata": {},
   "outputs": [],
   "source": [
    "# decision calculates the confidence socre for each class\n",
    "\n",
    "decision_value = model.decision_function(scaled)\n",
    "# decision_value = np.abs(decision_value)\n",
    "decision_value_scaled = decision_value/1e+12"
   ]
  },
  {
   "cell_type": "code",
   "execution_count": 18,
   "id": "90babc9d",
   "metadata": {},
   "outputs": [
    {
     "data": {
      "text/plain": [
       "array([[-160.35833104, -280.08289736, -137.56631757, -165.80567476,\n",
       "        -269.32375694, -239.43744718,  -58.12548143,   46.27342712,\n",
       "        -286.60690957, -157.00255078, -232.46465819, -144.10691717,\n",
       "        -292.23695395, -223.66607129,  -82.28977164, -111.70178246,\n",
       "        -180.42241213, -157.85148441, -146.07941565, -329.18516949]])"
      ]
     },
     "execution_count": 18,
     "metadata": {},
     "output_type": "execute_result"
    }
   ],
   "source": [
    "decision_value_scaled"
   ]
  },
  {
   "cell_type": "code",
   "execution_count": 19,
   "id": "4d211566",
   "metadata": {},
   "outputs": [
    {
     "data": {
      "text/plain": [
       "array(['bear', 'cat', 'chicken', 'cow', 'deer', 'dog', 'duck', 'eagle',\n",
       "       'elephant', 'human', 'lion', 'monkey', 'mouse', 'natural', 'panda',\n",
       "       'pigeon', 'rabbit', 'sheep', 'tiger', 'wolf'], dtype='<U8')"
      ]
     },
     "execution_count": 19,
     "metadata": {},
     "output_type": "execute_result"
    }
   ],
   "source": [
    "labels = model.classes_\n",
    "labels"
   ]
  },
  {
   "cell_type": "code",
   "execution_count": 20,
   "id": "c8fa594d",
   "metadata": {},
   "outputs": [],
   "source": [
    "decision_value=decision_value.flatten()"
   ]
  },
  {
   "cell_type": "code",
   "execution_count": 21,
   "id": "9d7624d3",
   "metadata": {},
   "outputs": [
    {
     "data": {
      "text/plain": [
       "(array([-3.5e+14, -3.0e+14, -2.5e+14, -2.0e+14, -1.5e+14, -1.0e+14,\n",
       "        -5.0e+13,  0.0e+00,  5.0e+13,  1.0e+14]),\n",
       " <a list of 10 Text major ticklabel objects>)"
      ]
     },
     "execution_count": 21,
     "metadata": {},
     "output_type": "execute_result"
    },
    {
     "data": {
      "image/png": "[encoded data removed]",
      "text/plain": [
       "<Figure size 432x288 with 1 Axes>"
      ]
     },
     "metadata": {
      "needs_background": "light"
     },
     "output_type": "display_data"
    }
   ],
   "source": [
    "plt.barh(labels,decision_value,)\n",
    "plt.xticks(rotation=90)"
   ]
  },
  {
   "cell_type": "code",
   "execution_count": 22,
   "id": "23ead245",
   "metadata": {},
   "outputs": [
    {
     "data": {
      "text/plain": [
       "array([ 2.25143322e-01, -1.11967772e+00,  4.81157441e-01,  1.63955358e-01,\n",
       "       -9.98824344e-01, -6.63122661e-01,  1.37348649e+00,  2.54616018e+00,\n",
       "       -1.19295950e+00,  2.62837540e-01, -5.84799944e-01,  4.07689344e-01,\n",
       "       -1.25619967e+00, -4.85968725e-01,  1.10205810e+00,  7.71684041e-01,\n",
       "       -2.28958325e-04,  2.53301788e-01,  3.85533011e-01, -1.67122509e+00])"
      ]
     },
     "execution_count": 22,
     "metadata": {},
     "output_type": "execute_result"
    }
   ],
   "source": [
    "## calculate z-score\n",
    "\n",
    "z = scipy.stats.zscore(decision_value)\n",
    "z"
   ]
  },
  {
   "cell_type": "code",
   "execution_count": 23,
   "id": "01be716a",
   "metadata": {},
   "outputs": [
    {
     "data": {
      "text/plain": [
       "array([0.03513309, 0.0091552 , 0.04538391, 0.03304782, 0.01033128,\n",
       "       0.01445265, 0.1107734 , 0.35786662, 0.00850829, 0.03648268,\n",
       "       0.01563013, 0.04216918, 0.00798688, 0.01725378, 0.08444144,\n",
       "       0.06068425, 0.0280439 , 0.03613645, 0.04124514, 0.00527393])"
      ]
     },
     "execution_count": 23,
     "metadata": {},
     "output_type": "execute_result"
    }
   ],
   "source": [
    "prob = scipy.special.softmax(z)\n",
    "prob"
   ]
  },
  {
   "cell_type": "code",
   "execution_count": 24,
   "id": "299da71b",
   "metadata": {},
   "outputs": [
    {
     "data": {
      "image/png": "[encoded data removed]",
      "text/plain": [
       "<Figure size 432x288 with 1 Axes>"
      ]
     },
     "metadata": {
      "needs_background": "light"
     },
     "output_type": "display_data"
    }
   ],
   "source": [
    "plt.barh(labels,prob)\n",
    "plt.grid()"
   ]
  },
  {
   "cell_type": "markdown",
   "id": "2ee32bc5",
   "metadata": {},
   "source": [
    "## top-5 prob values"
   ]
  },
  {
   "cell_type": "code",
   "execution_count": 26,
   "id": "0ba071e1",
   "metadata": {},
   "outputs": [
    {
     "data": {
      "text/plain": [
       "array([ 7,  6, 14, 15,  2])"
      ]
     },
     "execution_count": 26,
     "metadata": {},
     "output_type": "execute_result"
    }
   ],
   "source": [
    "top_5_prob_index = prob.argsort()[::-1][:5]\n",
    "top_5_prob_index"
   ]
  },
  {
   "cell_type": "code",
   "execution_count": 27,
   "id": "673d377d",
   "metadata": {},
   "outputs": [],
   "source": [
    "top_labels = labels[top_5_prob_index]"
   ]
  },
  {
   "cell_type": "code",
   "execution_count": 28,
   "id": "59482f1d",
   "metadata": {},
   "outputs": [],
   "source": [
    "top_5_prob_values = prob[top_5_prob_index]"
   ]
  },
  {
   "cell_type": "code",
   "execution_count": 29,
   "id": "4d942721",
   "metadata": {},
   "outputs": [
    {
     "data": {
      "text/plain": [
       "array([0.35786662, 0.1107734 , 0.08444144, 0.06068425, 0.04538391])"
      ]
     },
     "execution_count": 29,
     "metadata": {},
     "output_type": "execute_result"
    }
   ],
   "source": [
    "top_5_prob_values"
   ]
  },
  {
   "cell_type": "code",
   "execution_count": 30,
   "id": "5f679287",
   "metadata": {},
   "outputs": [],
   "source": [
    "top_dict = dict()\n",
    "for key,value in zip(top_labels,top_5_prob_values):\n",
    "    top_dict[key]=np.round(value,2)"
   ]
  },
  {
   "cell_type": "code",
   "execution_count": 31,
   "id": "1f638255",
   "metadata": {},
   "outputs": [
    {
     "data": {
      "text/plain": [
       "{'eagle': 0.36, 'duck': 0.11, 'panda': 0.08, 'pigeon': 0.06, 'chicken': 0.05}"
      ]
     },
     "execution_count": 31,
     "metadata": {},
     "output_type": "execute_result"
    }
   ],
   "source": [
    "top_dict"
   ]
  },
  {
   "cell_type": "markdown",
   "id": "f0c3acaa",
   "metadata": {},
   "source": [
    "## making pipeline function"
   ]
  },
  {
   "cell_type": "code",
   "execution_count": 33,
   "id": "dc1d3fad",
   "metadata": {},
   "outputs": [],
   "source": [
    "def pipe_fun(path,scaler_transformed,model_sgd):\n",
    "    # read the image\n",
    "    image = skimage.io.imread(path)\n",
    "    # making transformation\n",
    "    image_resized = skimage.transform.resize(image,(80,80))\n",
    "    # rescaling\n",
    "    rescaled_image = 255*image_resized\n",
    "    image_transformed = rescaled_image.astype(np.uint8) # converting to 8 bit integer\n",
    "    # graify\n",
    "    gray = skimage.color.rgb2gray(image_transformed) # can use custom function as well\n",
    "    # hog feature extraction\n",
    "    hog_feature_vector = skimage.feature.hog(gray,\n",
    "                                  orientations=10, pixels_per_cell=(8,8),cells_per_block=(3,3))\n",
    "    \n",
    "    #scaling\n",
    "    scaled = scaler_transformed.transform(hog_feature_vector.reshape(1,-1))\n",
    "    y_pred = model_sgd.predict(scaled)\n",
    "    # confidence score for each class\n",
    "    decision_value = model_sgd.decision_function(scaled)\n",
    "    decision_value=decision_value.flatten()\n",
    "    labels = model_sgd.classes_\n",
    "    # probabilty \n",
    "    z = scipy.stats.zscore(decision_value)\n",
    "    prob = scipy.special.softmax(z)\n",
    "    top_5_prob_index = prob.argsort()[::-1][:5]\n",
    "    top_5_prob_values = prob[top_5_prob_index]\n",
    "    top_labels = labels[top_5_prob_index]\n",
    "    #making dictionary\n",
    "    top_dict = dict()\n",
    "    for key,value in zip(top_labels,top_5_prob_values):\n",
    "        top_dict[key]=np.round(value,2)\n",
    "    \n",
    "    return top_dict"
   ]
  },
  {
   "cell_type": "code",
   "execution_count": 34,
   "id": "e7ae9ba7",
   "metadata": {},
   "outputs": [
    {
     "data": {
      "text/plain": [
       "{'eagle': 0.36, 'duck': 0.11, 'panda': 0.08, 'pigeon': 0.06, 'chicken': 0.05}"
      ]
     },
     "execution_count": 34,
     "metadata": {},
     "output_type": "execute_result"
    }
   ],
   "source": [
    "pipe_fun('eagle.jpg',scaler,model)"
   ]
  },
  {
   "cell_type": "code",
   "execution_count": null,
   "id": "61286351",
   "metadata": {},
   "outputs": [],
   "source": []
  }
 ],
 "metadata": {
  "kernelspec": {
   "display_name": "imgenv",
   "language": "python",
   "name": "imgenv"
  },
  "language_info": {
   "codemirror_mode": {
    "name": "ipython",
    "version": 3
   },
   "file_extension": ".py",
   "mimetype": "text/x-python",
   "name": "python",
   "nbconvert_exporter": "python",
   "pygments_lexer": "ipython3",
   "version": "3.6.13"
  }
 },
 "nbformat": 4,
 "nbformat_minor": 5
}
